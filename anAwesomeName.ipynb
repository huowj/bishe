{
 "cells": [
  {
   "cell_type": "code",
   "execution_count": 2,
   "metadata": {},
   "outputs": [
    {
     "name": "stdout",
     "output_type": "stream",
     "text": [
      "                                                            \n",
      "                                                            \n",
      "                                                            \n",
      "                                                            \n",
      "                                                            \n",
      "                                                            \n",
      "                                                            \n",
      "                                                            \n",
      "                                                            \n",
      "                                                            \n",
      "                                                            \n",
      "                                                            \n",
      "                                                            \n",
      "                                                            \n",
      "                                                            \n",
      "                                                            \n",
      "                                                            \n",
      "                                                            \n",
      "                velovelov           velovelov               \n",
      "            elovelovelovelove   elovelovelovelove           \n",
      "          velovelovelovelovelovelovelovelovelovelov         \n",
      "         velovelovelovelovelovelovelovelovelovelovel        \n",
      "        velovelovelovelovelovelovelovelovelovelovelov       \n",
      "        elovelovelovelovelovelovelovelovelovelovelove       \n",
      "        lovelovelovelovelovelovelovelovelovelovelovel       \n",
      "        ovelovelovelovelovelovelovelovelovelovelovelo       \n",
      "        velovelovelovelovelovelovelovelovelovelovelov       \n",
      "        elovelovelovelovelovelovelovelovelovelovelove       \n",
      "         ovelovelovelovelovelovelovelovelovelovelove        \n",
      "          elovelovelovelovelovelovelovelovelovelove         \n",
      "          lovelovelovelovelovelovelovelovelovelovel         \n",
      "            elovelovelovelovelovelovelovelovelove           \n",
      "             ovelovelovelovelovelovelovelovelove            \n",
      "              elovelovelovelovelovelovelovelove             \n",
      "                velovelovelovelovelovelovelov               \n",
      "                  ovelovelovelovelovelovelo                 \n",
      "                    lovelovelovelovelovel                   \n",
      "                       lovelovelovelov                      \n",
      "                          lovelovel                         \n",
      "                             lov                            \n",
      "                              v                             \n",
      "                                                            \n",
      "                                                            \n",
      "                                                            \n",
      "                                                            \n",
      "                                                            \n",
      "                                                            \n",
      "                                                            \n",
      "                                                            \n",
      "                                                            \n",
      "                                                            \n",
      "                                                            \n",
      "                                                            \n",
      "                                                            \n",
      "                                                            \n",
      "                                                            \n",
      "                                                            \n",
      "                                                            \n",
      "                                                            \n",
      "                                                            \n"
     ]
    }
   ],
   "source": [
    "print('\\n'.join([''.join([('love'[(x-y) % len('Love')] if ((x*0.05)**2+(y*0.1)**2-1)**3-(x*0.05)**2*(y*0.1)**3 <= 0 else ' ') for x in range(-30, 30)]) for y in range(30, -30, -1)]))"
   ]
  },
  {
   "cell_type": "code",
   "execution_count": null,
   "metadata": {},
   "outputs": [],
   "source": []
  }
 ],
 "metadata": {
  "kernelspec": {
   "display_name": "Python 3",
   "language": "python",
   "name": "python3"
  },
  "language_info": {
   "codemirror_mode": {
    "name": "ipython",
    "version": 3
   },
   "file_extension": ".py",
   "mimetype": "text/x-python",
   "name": "python",
   "nbconvert_exporter": "python",
   "pygments_lexer": "ipython3",
   "version": "3.7.4"
  }
 },
 "nbformat": 4,
 "nbformat_minor": 2
}
